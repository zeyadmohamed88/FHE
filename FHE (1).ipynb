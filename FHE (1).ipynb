{
 "cells": [
  {
   "cell_type": "code",
   "execution_count": 1,
   "id": "1feeb802-3ae7-4c9a-a030-74d63df7593d",
   "metadata": {},
   "outputs": [
    {
     "name": "stdout",
     "output_type": "stream",
     "text": [
      "Proportion of positive examples: 16.14%\n",
      "Proportion of negative examples: 62.69%\n",
      "Proportion of neutral examples: 21.17%\n"
     ]
    }
   ],
   "source": [
    "from datasets import load_dataset\n",
    "train = load_dataset(\"osanseviero/twitter-airline-sentiment\")[\"train\"].to_pandas()\n",
    "text_X = train['text']\n",
    "y = train['airline_sentiment']\n",
    "y = y.replace(['negative', 'neutral', 'positive'], [0, 1, 2])\n",
    "pos_ratio = y.value_counts()[2] / y.value_counts().sum()\n",
    "neg_ratio = y.value_counts()[0] / y.value_counts().sum()\n",
    "neutral_ratio = y.value_counts()[1] / y.value_counts().sum()\n",
    "print(f'Proportion of positive examples: {round(pos_ratio * 100, 2)}%')\n",
    "print(f'Proportion of negative examples: {round(neg_ratio * 100, 2)}%')\n",
    "print(f'Proportion of neutral examples: {round(neutral_ratio * 100, 2)}%')\n"
   ]
  },
  {
   "cell_type": "code",
   "execution_count": 2,
   "id": "98650686-38e1-4481-8276-a5780341e109",
   "metadata": {},
   "outputs": [],
   "source": [
    "from sklearn.model_selection import train_test_split\n",
    "text_X_train, text_X_test, y_train, y_test = train_test_split(text_X, y,\n",
    "    test_size=0.1, random_state=42)\n"
   ]
  },
  {
   "cell_type": "code",
   "execution_count": 3,
   "id": "b4b802bc-4c89-40f6-a944-e80fc99df4dd",
   "metadata": {},
   "outputs": [
    {
     "name": "stderr",
     "output_type": "stream",
     "text": [
      "Some weights of the model checkpoint at cardiffnlp/twitter-roberta-base-sentiment-latest were not used when initializing RobertaForSequenceClassification: ['roberta.pooler.dense.bias', 'roberta.pooler.dense.weight']\n",
      "- This IS expected if you are initializing RobertaForSequenceClassification from the checkpoint of a model trained on another task or with another architecture (e.g. initializing a BertForSequenceClassification model from a BertForPreTraining model).\n",
      "- This IS NOT expected if you are initializing RobertaForSequenceClassification from the checkpoint of a model that you expect to be exactly identical (initializing a BertForSequenceClassification model from a BertForSequenceClassification model).\n"
     ]
    }
   ],
   "source": [
    "import torch\n",
    "from transformers import AutoModelForSequenceClassification, AutoTokenizer\n",
    "device = \"cuda:0\" if torch.cuda.is_available() else \"cpu\"\n",
    "# Load the tokenizer (converts text to tokens)\n",
    "tokenizer = AutoTokenizer.from_pretrained(\"cardiffnlp/twitter-roberta-base-sentiment-latest\")\n",
    "\n",
    "# Load the pre-trained model\n",
    "transformer_model = AutoModelForSequenceClassification.from_pretrained(\n",
    "   \"cardiffnlp/twitter-roberta-base-sentiment-latest\"\n",
    ")\n"
   ]
  },
  {
   "cell_type": "code",
   "execution_count": 4,
   "id": "d616cf5a-4f1c-4c9f-bbd4-4b93398b30e8",
   "metadata": {},
   "outputs": [],
   "source": [
    "import numpy as np\n",
    "import tqdm\n",
    "# Function that transforms a list of texts to their representation\n",
    "# learned by the transformer.\n",
    "def text_to_tensor(\n",
    "   list_text_X_train: list,\n",
    "   transformer_model: AutoModelForSequenceClassification,\n",
    "   tokenizer: AutoTokenizer,\n",
    "   device: str,\n",
    ") -> np.ndarray:\n",
    "   # Tokenize each text in the list one by one\n",
    "   tokenized_text_X_train_split = []\n",
    "   tokenized_text_X_train_split = [\n",
    "       tokenizer.encode(text_x_train, return_tensors=\"pt\")\n",
    "       for text_x_train in list_text_X_train\n",
    "   ]\n",
    "\n",
    "   # Send the model to the device\n",
    "   transformer_model = transformer_model.to(device)\n",
    "   output_hidden_states_list = [None] * len(tokenized_text_X_train_split)\n",
    "\n",
    "   for i, tokenized_x in enumerate(tqdm.tqdm(tokenized_text_X_train_split)):\n",
    "       # Pass the tokens through the transformer model and get the hidden states\n",
    "       # Only keep the last hidden layer state for now\n",
    "       output_hidden_states = transformer_model(tokenized_x.to(device), output_hidden_states=True)[\n",
    "           1\n",
    "       ][-1]\n",
    "       # Average over the tokens axis to get a representation at the text level.\n",
    "       output_hidden_states = output_hidden_states.mean(dim=1)\n",
    "       output_hidden_states = output_hidden_states.detach().cpu().numpy()\n",
    "       output_hidden_states_list[i] = output_hidden_states\n",
    "\n",
    "   return np.concatenate(output_hidden_states_list, axis=0)\n"
   ]
  },
  {
   "cell_type": "code",
   "execution_count": 5,
   "id": "5f06d052-d260-494f-b0c8-bae13fc55083",
   "metadata": {},
   "outputs": [
    {
     "name": "stderr",
     "output_type": "stream",
     "text": [
      "100%|█████████████████████████████████████████████████████████████████████████████| 13176/13176 [02:22<00:00, 92.24it/s]\n",
      "100%|███████████████████████████████████████████████████████████████████████████████| 1464/1464 [00:17<00:00, 85.74it/s]\n"
     ]
    }
   ],
   "source": [
    "# Let's vectorize the text using the transformer\n",
    "list_text_X_train = text_X_train.tolist()\n",
    "list_text_X_test = text_X_test.tolist()\n",
    "\n",
    "X_train_transformer = text_to_tensor(list_text_X_train, transformer_model, tokenizer, device)\n",
    "X_test_transformer = text_to_tensor(list_text_X_test, transformer_model, tokenizer, device)\n"
   ]
  },
  {
   "cell_type": "code",
   "execution_count": 6,
   "id": "630b294e-fb07-4338-b188-097ae4329568",
   "metadata": {},
   "outputs": [
    {
     "name": "stderr",
     "output_type": "stream",
     "text": [
      "huggingface/tokenizers: The current process just got forked, after parallelism has already been used. Disabling parallelism to avoid deadlocks...\n",
      "To disable this warning, you can either:\n",
      "\t- Avoid using `tokenizers` before the fork if possible\n",
      "\t- Explicitly set the environment variable TOKENIZERS_PARALLELISM=(true | false)\n",
      "huggingface/tokenizers: The current process just got forked, after parallelism has already been used. Disabling parallelism to avoid deadlocks...\n",
      "To disable this warning, you can either:\n",
      "\t- Avoid using `tokenizers` before the fork if possible\n",
      "\t- Explicitly set the environment variable TOKENIZERS_PARALLELISM=(true | false)\n"
     ]
    },
    {
     "name": "stdout",
     "output_type": "stream",
     "text": [
      "Best score: 0.8367480196836677\n",
      "Best parameters: {'max_depth': 1, 'n_bits': 3, 'n_estimators': 30, 'n_jobs': -1}\n"
     ]
    }
   ],
   "source": [
    "from concrete.ml.sklearn import XGBClassifier\n",
    "from sklearn.model_selection import GridSearchCV\n",
    "# Let's build our model\n",
    "model = XGBClassifier()\n",
    "\n",
    "# A gridsearch to find the best parameters\n",
    "parameters = {\n",
    "    \"n_bits\": [2, 3],\n",
    "    \"max_depth\": [1],\n",
    "    \"n_estimators\": [10, 30, 50],\n",
    "    \"n_jobs\": [-1],\n",
    "}\n",
    "\n",
    "# Now we have a representation for each tweet, we can train a model on these.\n",
    "grid_search = GridSearchCV(model, parameters, cv=5, n_jobs=1, scoring=\"accuracy\")\n",
    "grid_search.fit(X_train_transformer, y_train)\n",
    "\n",
    "# Check the accuracy of the best model\n",
    "print(f\"Best score: {grid_search.best_score_}\")\n",
    "\n",
    "# Check best hyperparameters\n",
    "print(f\"Best parameters: {grid_search.best_params_}\")\n",
    "\n",
    "# Extract best model\n",
    "best_model = grid_search.best_estimator_\n"
   ]
  },
  {
   "cell_type": "code",
   "execution_count": 12,
   "id": "2091bfdf-bb9a-498b-bf03-5a003229cf0d",
   "metadata": {},
   "outputs": [
    {
     "name": "stderr",
     "output_type": "stream",
     "text": [
      "huggingface/tokenizers: The current process just got forked, after parallelism has already been used. Disabling parallelism to avoid deadlocks...\n",
      "To disable this warning, you can either:\n",
      "\t- Avoid using `tokenizers` before the fork if possible\n",
      "\t- Explicitly set the environment variable TOKENIZERS_PARALLELISM=(true | false)\n"
     ]
    },
    {
     "name": "stdout",
     "output_type": "stream",
     "text": [
      "Collecting matplotlib\n",
      "  Downloading matplotlib-3.7.5-cp38-cp38-manylinux_2_12_x86_64.manylinux2010_x86_64.whl.metadata (5.7 kB)\n",
      "Collecting contourpy>=1.0.1 (from matplotlib)\n",
      "  Downloading contourpy-1.1.1-cp38-cp38-manylinux_2_17_x86_64.manylinux2014_x86_64.whl.metadata (5.9 kB)\n",
      "Collecting cycler>=0.10 (from matplotlib)\n",
      "  Using cached cycler-0.12.1-py3-none-any.whl.metadata (3.8 kB)\n",
      "Collecting fonttools>=4.22.0 (from matplotlib)\n",
      "  Downloading fonttools-4.55.3-cp38-cp38-manylinux_2_17_x86_64.manylinux2014_x86_64.whl.metadata (165 kB)\n",
      "Collecting kiwisolver>=1.0.1 (from matplotlib)\n",
      "  Downloading kiwisolver-1.4.7-cp38-cp38-manylinux_2_5_x86_64.manylinux1_x86_64.whl.metadata (6.3 kB)\n",
      "Requirement already satisfied: numpy<2,>=1.20 in ./lib/python3.8/site-packages (from matplotlib) (1.23.5)\n",
      "Requirement already satisfied: packaging>=20.0 in ./lib/python3.8/site-packages (from matplotlib) (24.2)\n",
      "Collecting pillow>=6.2.0 (from matplotlib)\n",
      "  Downloading pillow-10.4.0-cp38-cp38-manylinux_2_28_x86_64.whl.metadata (9.2 kB)\n",
      "Collecting pyparsing>=2.3.1 (from matplotlib)\n",
      "  Downloading pyparsing-3.1.4-py3-none-any.whl.metadata (5.1 kB)\n",
      "Requirement already satisfied: python-dateutil>=2.7 in ./lib/python3.8/site-packages (from matplotlib) (2.9.0.post0)\n",
      "Requirement already satisfied: importlib-resources>=3.2.0 in ./lib/python3.8/site-packages (from matplotlib) (6.4.5)\n",
      "Requirement already satisfied: zipp>=3.1.0 in ./lib/python3.8/site-packages (from importlib-resources>=3.2.0->matplotlib) (3.20.2)\n",
      "Requirement already satisfied: six>=1.5 in ./lib/python3.8/site-packages (from python-dateutil>=2.7->matplotlib) (1.17.0)\n",
      "Downloading matplotlib-3.7.5-cp38-cp38-manylinux_2_12_x86_64.manylinux2010_x86_64.whl (9.2 MB)\n",
      "\u001b[2K   \u001b[90m━━━━━━━━━━━━━━━━━━━━━━━━━━━━━━━━━━━━━━━━\u001b[0m \u001b[32m9.2/9.2 MB\u001b[0m \u001b[31m36.1 MB/s\u001b[0m eta \u001b[36m0:00:00\u001b[0ma \u001b[36m0:00:01\u001b[0m\n",
      "Downloading contourpy-1.1.1-cp38-cp38-manylinux_2_17_x86_64.manylinux2014_x86_64.whl (301 kB)\n",
      "Using cached cycler-0.12.1-py3-none-any.whl (8.3 kB)\n",
      "Downloading fonttools-4.55.3-cp38-cp38-manylinux_2_17_x86_64.manylinux2014_x86_64.whl (4.7 MB)\n",
      "\u001b[2K   \u001b[90m━━━━━━━━━━━━━━━━━━━━━━━━━━━━━━━━━━━━━━━━\u001b[0m \u001b[32m4.7/4.7 MB\u001b[0m \u001b[31m5.7 MB/s\u001b[0m eta \u001b[36m0:00:00\u001b[0mta \u001b[36m0:00:01\u001b[0m\n",
      "Downloading kiwisolver-1.4.7-cp38-cp38-manylinux_2_5_x86_64.manylinux1_x86_64.whl (1.2 MB)\n",
      "\u001b[2K   \u001b[90m━━━━━━━━━━━━━━━━━━━━━━━━━━━━━━━━━━━━━━━━\u001b[0m \u001b[32m1.2/1.2 MB\u001b[0m \u001b[31m38.6 MB/s\u001b[0m eta \u001b[36m0:00:00\u001b[0m\n",
      "Downloading pillow-10.4.0-cp38-cp38-manylinux_2_28_x86_64.whl (4.5 MB)\n",
      "\u001b[2K   \u001b[90m━━━━━━━━━━━━━━━━━━━━━━━━━━━━━━━━━━━━━━━━\u001b[0m \u001b[32m4.5/4.5 MB\u001b[0m \u001b[31m48.6 MB/s\u001b[0m eta \u001b[36m0:00:00\u001b[0m\n",
      "Downloading pyparsing-3.1.4-py3-none-any.whl (104 kB)\n",
      "Installing collected packages: pyparsing, pillow, kiwisolver, fonttools, cycler, contourpy, matplotlib\n",
      "Successfully installed contourpy-1.1.1 cycler-0.12.1 fonttools-4.55.3 kiwisolver-1.4.7 matplotlib-3.7.5 pillow-10.4.0 pyparsing-3.1.4\n"
     ]
    }
   ],
   "source": [
    "!pip install matplotlib"
   ]
  },
  {
   "cell_type": "code",
   "execution_count": 13,
   "id": "4315dcc6-0391-4d95-ac91-4bbdcc8e6e5f",
   "metadata": {},
   "outputs": [
    {
     "name": "stderr",
     "output_type": "stream",
     "text": [
      "huggingface/tokenizers: The current process just got forked, after parallelism has already been used. Disabling parallelism to avoid deadlocks...\n",
      "To disable this warning, you can either:\n",
      "\t- Avoid using `tokenizers` before the fork if possible\n",
      "\t- Explicitly set the environment variable TOKENIZERS_PARALLELISM=(true | false)\n",
      "huggingface/tokenizers: The current process just got forked, after parallelism has already been used. Disabling parallelism to avoid deadlocks...\n",
      "To disable this warning, you can either:\n",
      "\t- Avoid using `tokenizers` before the fork if possible\n",
      "\t- Explicitly set the environment variable TOKENIZERS_PARALLELISM=(true | false)\n"
     ]
    },
    {
     "name": "stdout",
     "output_type": "stream",
     "text": [
      "Accuracy: 0.8456\n"
     ]
    },
    {
     "data": {
      "image/png": "[encoded data removed]",
      "text/plain": [
       "<Figure size 640x480 with 2 Axes>"
      ]
     },
     "metadata": {},
     "output_type": "display_data"
    }
   ],
   "source": [
    "from sklearn.metrics import confusion_matrix, ConfusionMatrixDisplay\n",
    "# Compute the metrics on the test set\n",
    "y_pred = best_model.predict(X_test_transformer)\n",
    "y_proba = best_model.predict_proba(X_test_transformer)\n",
    "\n",
    "# Compute and plot the confusion matrix\n",
    "matrix = confusion_matrix(y_test, y_pred)\n",
    "ConfusionMatrixDisplay(matrix).plot()\n",
    "\n",
    "# Compute the accuracy\n",
    "accuracy_transformer_xgboost = np.mean(y_pred == y_test)\n",
    "print(f\"Accuracy: {accuracy_transformer_xgboost:.4f}\")\n"
   ]
  },
  {
   "cell_type": "code",
   "execution_count": 26,
   "id": "fc321d86-1b28-4601-a881-88fd86970702",
   "metadata": {},
   "outputs": [
    {
     "name": "stdout",
     "output_type": "stream",
     "text": [
      "Compilation time: 10.4187 seconds\n"
     ]
    },
    {
     "name": "stderr",
     "output_type": "stream",
     "text": [
      "100%|█████████████████████████████████████████████████████████████████████████████████████| 1/1 [00:00<00:00,  1.28it/s]\n"
     ]
    },
    {
     "name": "stdout",
     "output_type": "stream",
     "text": [
      "FHE inference time: 2.5172 seconds\n"
     ]
    }
   ],
   "source": [
    "import time\n",
    "# Compile the model to get the FHE inference engine\n",
    "# (this may take a few minutes depending on the selected model)\n",
    "start = time.perf_counter()\n",
    "best_model.compile(X_train_transformer)\n",
    "end = time.perf_counter()\n",
    "print(f\"Compilation time: {end - start:.4f} seconds\")\n",
    "\n",
    "# Let's write a custom example and predict in FHE\n",
    "tested_tweet = [\"AirFrance is awesome, almost as much as Zama!\"]\n",
    "X_tested_tweet = text_to_tensor(tested_tweet, transformer_model, tokenizer, device)\n",
    "clear_proba = best_model.predict_proba(X_tested_tweet)\n",
    "\n",
    "# Now let's predict with FHE over a single tweet and print the time it takes\n",
    "start = time.perf_counter()\n",
    "decrypted_proba = best_model.predict_proba(X_tested_tweet,fhe=\"execute\")\n",
    "end = time.perf_counter()\n",
    "fhe_exec_time = end - start\n",
    "print(f\"FHE inference time: {fhe_exec_time:.4f} seconds\")\n"
   ]
  },
  {
   "cell_type": "code",
   "execution_count": 27,
   "id": "f43029e1-e1c5-4a39-afae-69d22927c714",
   "metadata": {},
   "outputs": [
    {
     "name": "stdout",
     "output_type": "stream",
     "text": [
      "Probabilities from the FHE inference: [[0.05164601 0.04560514 0.90274885]]\n",
      "Probabilities from the clear model: [[0.05164601 0.04560514 0.90274885]]\n"
     ]
    }
   ],
   "source": [
    "print(f\"Probabilities from the FHE inference: {decrypted_proba}\")\n",
    "print(f\"Probabilities from the clear model: {clear_proba}\")\n"
   ]
  },
  {
   "cell_type": "code",
   "execution_count": 28,
   "id": "5dcecbb8-e80c-4d95-b131-6b749f597135",
   "metadata": {},
   "outputs": [],
   "source": [
    "# Let's save the model to be pushed to a server later\n",
    "from concrete.ml.deployment import FHEModelDev\n",
    "fhe_api = FHEModelDev(\"sentiment_fhe_model\", best_model)\n",
    "fhe_api.save()\n"
   ]
  },
  {
   "cell_type": "code",
   "execution_count": null,
   "id": "6775c257-0dd4-4d54-97a6-006a4dfc262b",
   "metadata": {},
   "outputs": [],
   "source": []
  }
 ],
 "metadata": {
  "kernelspec": {
   "display_name": "Python 3 (ipykernel)",
   "language": "python",
   "name": "python3"
  },
  "language_info": {
   "codemirror_mode": {
    "name": "ipython",
    "version": 3
   },
   "file_extension": ".py",
   "mimetype": "text/x-python",
   "name": "python",
   "nbconvert_exporter": "python",
   "pygments_lexer": "ipython3",
   "version": "3.8.20"
  }
 },
 "nbformat": 4,
 "nbformat_minor": 5
}
