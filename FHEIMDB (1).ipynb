{
 "cells": [
  {
   "cell_type": "code",
   "execution_count": 2,
   "id": "1feeb802-3ae7-4c9a-a030-74d63df7593d",
   "metadata": {},
   "outputs": [
    {
     "name": "stdout",
     "output_type": "stream",
     "text": [
      "Training data size: 25000\n",
      "Test data size: 25000\n",
      "Proportion of positive reviews: 50.0%\n"
     ]
    }
   ],
   "source": [
    "# Step 1: Load IMDb Dataset\n",
    "from datasets import load_dataset\n",
    "\n",
    "# Load IMDb data\n",
    "imdb = load_dataset(\"imdb\")\n",
    "train = imdb[\"train\"].to_pandas()\n",
    "test = imdb[\"test\"].to_pandas()\n",
    "\n",
    "# Extract text and labels\n",
    "text_X_train = train[\"text\"]\n",
    "y_train = train[\"label\"]\n",
    "text_X_test = test[\"text\"]\n",
    "y_test = test[\"label\"]\n",
    "\n",
    "# Display dataset distribution\n",
    "print(f\"Training data size: {len(text_X_train)}\")\n",
    "print(f\"Test data size: {len(text_X_test)}\")\n",
    "print(f\"Proportion of positive reviews: {round((y_train.mean()) * 100, 2)}%\")\n"
   ]
  },
  {
   "cell_type": "code",
   "execution_count": 3,
   "id": "98650686-38e1-4481-8276-a5780341e109",
   "metadata": {},
   "outputs": [
    {
     "name": "stdout",
     "output_type": "stream",
     "text": [
      "Sample training data:\n",
      "0    I rented I AM CURIOUS-YELLOW from my video sto...\n",
      "1    \"I Am Curious: Yellow\" is a risible and preten...\n",
      "2    If only to avoid making this type of film in t...\n",
      "3    This film was probably inspired by Godard's Ma...\n",
      "4    Oh, brother...after hearing about this ridicul...\n",
      "Name: text, dtype: object\n",
      "\n",
      "Sample training labels:\n",
      "0    0\n",
      "1    0\n",
      "2    0\n",
      "3    0\n",
      "4    0\n",
      "Name: label, dtype: int64\n",
      "\n",
      "Training set size: 25000\n",
      "Test set size: 25000\n"
     ]
    }
   ],
   "source": [
    "# The dataset is already split into training and test sets\n",
    "# text_X_train and text_X_test are extracted directly from the IMDb dataset\n",
    "# y_train and y_test contain the corresponding labels\n",
    "\n",
    "# Display the first few samples from the training set\n",
    "print(\"Sample training data:\")\n",
    "print(text_X_train.head())\n",
    "\n",
    "print(\"\\nSample training labels:\")\n",
    "print(y_train.head())\n",
    "\n",
    "# Verify the shape of the datasets\n",
    "print(f\"\\nTraining set size: {text_X_train.shape[0]}\")\n",
    "print(f\"Test set size: {text_X_test.shape[0]}\")\n"
   ]
  },
  {
   "cell_type": "code",
   "execution_count": 4,
   "id": "b4b802bc-4c89-40f6-a944-e80fc99df4dd",
   "metadata": {},
   "outputs": [],
   "source": [
    "import torch\n",
    "from transformers import AutoModelForSequenceClassification, AutoTokenizer\n",
    "\n",
    "# Load a model and tokenizer more suitable for general sentiment analysis (e.g., IMDb)\n",
    "tokenizer = AutoTokenizer.from_pretrained(\"nlptown/bert-base-multilingual-uncased-sentiment\")\n",
    "transformer_model = AutoModelForSequenceClassification.from_pretrained(\n",
    "    \"nlptown/bert-base-multilingual-uncased-sentiment\"\n",
    ")\n",
    "\n",
    "# Keep device logic unchanged\n",
    "device = \"cuda:0\" if torch.cuda.is_available() else \"cpu\"\n"
   ]
  },
  {
   "cell_type": "code",
   "execution_count": 5,
   "id": "d616cf5a-4f1c-4c9f-bbd4-4b93398b30e8",
   "metadata": {},
   "outputs": [
    {
     "name": "stderr",
     "output_type": "stream",
     "text": [
      "100%|█████████████████████████████████████████████████████████████████████████████| 25000/25000 [05:03<00:00, 82.32it/s]\n",
      "100%|█████████████████████████████████████████████████████████████████████████████| 25000/25000 [04:59<00:00, 83.41it/s]\n"
     ]
    }
   ],
   "source": [
    "# Step 3: Convert Text to Tensor Representations\n",
    "import numpy as np\n",
    "import tqdm\n",
    "\n",
    "def text_to_tensor(\n",
    "    list_text: list,\n",
    "    transformer_model: AutoModelForSequenceClassification,\n",
    "    tokenizer: AutoTokenizer,\n",
    "    device: str,\n",
    ") -> np.ndarray:\n",
    "    tokenized_text = [\n",
    "        tokenizer.encode(text, return_tensors=\"pt\", truncation=True, padding=True)\n",
    "        for text in list_text\n",
    "    ]\n",
    "    transformer_model = transformer_model.to(device)\n",
    "    representations = []\n",
    "    \n",
    "    for tokens in tqdm.tqdm(tokenized_text):\n",
    "        # Get the last hidden state and average over tokens\n",
    "        with torch.no_grad():\n",
    "            output = transformer_model(tokens.to(device), output_hidden_states=True)\n",
    "            hidden_states = output.hidden_states[-1].mean(dim=1).cpu().numpy()\n",
    "        representations.append(hidden_states)\n",
    "    \n",
    "    return np.concatenate(representations, axis=0)\n",
    "\n",
    "# Vectorize training and test data\n",
    "X_train_transformer = text_to_tensor(text_X_train.tolist(), transformer_model, tokenizer, device)\n",
    "X_test_transformer = text_to_tensor(text_X_test.tolist(), transformer_model, tokenizer, device)\n"
   ]
  },
  {
   "cell_type": "code",
   "execution_count": 6,
   "id": "630b294e-fb07-4338-b188-097ae4329568",
   "metadata": {},
   "outputs": [
    {
     "name": "stderr",
     "output_type": "stream",
     "text": [
      "huggingface/tokenizers: The current process just got forked, after parallelism has already been used. Disabling parallelism to avoid deadlocks...\n",
      "To disable this warning, you can either:\n",
      "\t- Avoid using `tokenizers` before the fork if possible\n",
      "\t- Explicitly set the environment variable TOKENIZERS_PARALLELISM=(true | false)\n",
      "huggingface/tokenizers: The current process just got forked, after parallelism has already been used. Disabling parallelism to avoid deadlocks...\n",
      "To disable this warning, you can either:\n",
      "\t- Avoid using `tokenizers` before the fork if possible\n",
      "\t- Explicitly set the environment variable TOKENIZERS_PARALLELISM=(true | false)\n"
     ]
    },
    {
     "name": "stdout",
     "output_type": "stream",
     "text": [
      "Best accuracy during grid search: 0.8944\n"
     ]
    }
   ],
   "source": [
    "# Step 4: Train XGBoost Model\n",
    "from concrete.ml.sklearn import XGBClassifier\n",
    "from sklearn.model_selection import GridSearchCV\n",
    "\n",
    "# Define XGBoost classifier\n",
    "model = XGBClassifier()\n",
    "\n",
    "# Grid search for hyperparameter tuning\n",
    "parameters = {\n",
    "    \"n_bits\": [2, 3],\n",
    "    \"max_depth\": [1],\n",
    "    \"n_estimators\": [10, 30, 50],\n",
    "    \"n_jobs\": [-1],\n",
    "}\n",
    "\n",
    "grid_search = GridSearchCV(model, parameters, cv=5, n_jobs=1, scoring=\"accuracy\")\n",
    "grid_search.fit(X_train_transformer, y_train)\n",
    "\n",
    "# Best model and score\n",
    "best_model = grid_search.best_estimator_\n",
    "print(f\"Best accuracy during grid search: {grid_search.best_score_:.4f}\")\n"
   ]
  },
  {
   "cell_type": "code",
   "execution_count": 13,
   "id": "2091bfdf-bb9a-498b-bf03-5a003229cf0d",
   "metadata": {},
   "outputs": [
    {
     "name": "stderr",
     "output_type": "stream",
     "text": [
      "huggingface/tokenizers: The current process just got forked, after parallelism has already been used. Disabling parallelism to avoid deadlocks...\n",
      "To disable this warning, you can either:\n",
      "\t- Avoid using `tokenizers` before the fork if possible\n",
      "\t- Explicitly set the environment variable TOKENIZERS_PARALLELISM=(true | false)\n"
     ]
    },
    {
     "name": "stdout",
     "output_type": "stream",
     "text": [
      "Requirement already satisfied: matplotlib in ./lib/python3.8/site-packages (3.7.5)\n",
      "Requirement already satisfied: contourpy>=1.0.1 in ./lib/python3.8/site-packages (from matplotlib) (1.1.1)\n",
      "Requirement already satisfied: cycler>=0.10 in ./lib/python3.8/site-packages (from matplotlib) (0.12.1)\n",
      "Requirement already satisfied: fonttools>=4.22.0 in ./lib/python3.8/site-packages (from matplotlib) (4.55.3)\n",
      "Requirement already satisfied: kiwisolver>=1.0.1 in ./lib/python3.8/site-packages (from matplotlib) (1.4.7)\n",
      "Requirement already satisfied: numpy<2,>=1.20 in ./lib/python3.8/site-packages (from matplotlib) (1.23.5)\n",
      "Requirement already satisfied: packaging>=20.0 in ./lib/python3.8/site-packages (from matplotlib) (24.2)\n",
      "Requirement already satisfied: pillow>=6.2.0 in ./lib/python3.8/site-packages (from matplotlib) (10.4.0)\n",
      "Requirement already satisfied: pyparsing>=2.3.1 in ./lib/python3.8/site-packages (from matplotlib) (3.1.4)\n",
      "Requirement already satisfied: python-dateutil>=2.7 in ./lib/python3.8/site-packages (from matplotlib) (2.9.0.post0)\n",
      "Requirement already satisfied: importlib-resources>=3.2.0 in ./lib/python3.8/site-packages (from matplotlib) (6.4.5)\n",
      "Requirement already satisfied: zipp>=3.1.0 in ./lib/python3.8/site-packages (from importlib-resources>=3.2.0->matplotlib) (3.20.2)\n",
      "Requirement already satisfied: six>=1.5 in ./lib/python3.8/site-packages (from python-dateutil>=2.7->matplotlib) (1.17.0)\n"
     ]
    }
   ],
   "source": [
    "!pip install matplotlib"
   ]
  },
  {
   "cell_type": "code",
   "execution_count": 7,
   "id": "4315dcc6-0391-4d95-ac91-4bbdcc8e6e5f",
   "metadata": {},
   "outputs": [
    {
     "name": "stdout",
     "output_type": "stream",
     "text": [
      "Classification Report:\n",
      "              precision    recall  f1-score   support\n",
      "\n",
      "           0       0.91      0.89      0.90     12500\n",
      "           1       0.89      0.91      0.90     12500\n",
      "\n",
      "    accuracy                           0.90     25000\n",
      "   macro avg       0.90      0.90      0.90     25000\n",
      "weighted avg       0.90      0.90      0.90     25000\n",
      "\n"
     ]
    },
    {
     "data": {
      "text/plain": [
       "<sklearn.metrics._plot.confusion_matrix.ConfusionMatrixDisplay at 0x7efdd4229f70>"
      ]
     },
     "execution_count": 7,
     "metadata": {},
     "output_type": "execute_result"
    },
    {
     "data": {
      "image/png": "[encoded data removed]",
      "text/plain": [
       "<Figure size 640x480 with 2 Axes>"
      ]
     },
     "metadata": {},
     "output_type": "display_data"
    }
   ],
   "source": [
    "# Step 5: Evaluate Model\n",
    "from sklearn.metrics import confusion_matrix, classification_report,ConfusionMatrixDisplay\n",
    "\n",
    "# Predictions\n",
    "y_pred = best_model.predict(X_test_transformer)\n",
    "\n",
    "# Metrics\n",
    "print(\"Classification Report:\")\n",
    "print(classification_report(y_test, y_pred))\n",
    "\n",
    "# Confusion Matrix\n",
    "conf_matrix = confusion_matrix(y_test, y_pred)\n",
    "ConfusionMatrixDisplay(conf_matrix).plot()\n"
   ]
  },
  {
   "cell_type": "code",
   "execution_count": 8,
   "id": "fc321d86-1b28-4601-a881-88fd86970702",
   "metadata": {},
   "outputs": [
    {
     "name": "stdout",
     "output_type": "stream",
     "text": [
      "Compilation time: 10.33 seconds\n"
     ]
    },
    {
     "name": "stderr",
     "output_type": "stream",
     "text": [
      "100%|███████████████████████████████████████████████████████████████████████████████████| 10/10 [00:00<00:00, 24.04it/s]\n"
     ]
    },
    {
     "name": "stdout",
     "output_type": "stream",
     "text": [
      "Probabilities from the clear model:\n",
      "Review 1: I could not believe how terrible and boring this Hollywood remake was.It's so dreadful. It easily lands a place in my top 10 worst films of 1998.About the only thing it had going for it was Bruce Willis,who should stick to action films,as a completely emotionless killer who'd kill his own mother for the right price.But I'd rather listen to Robbie Coltraine talk American for a week than listen to Richard Gere's nauseating Irish accent again.But this film is also implausible,unconvincing,uneven,unexciting,unimpressive and lands Sidney Poiter in a rubbish role to make a possible career comeback.One for filmroll-footie purposes entirely.\n",
      "  Class 0: 0.9641\n",
      "  Class 1: 0.0359\n",
      "Review 2: I rented Boogie Nights last week and I could tell you, when I watched the film I had a blast. If you think that when you watch the film you will get sicked by the porn. I mean yes, if your not a porn person who can't bother being by it, than this isn't the film to see. But the thing is, the whole film isn't really about porn. Well halfway through the film is about the porn industry but the other half is about the character development and the bad situations these characters go through. The actors played there roles perfect, especially Mark Wahlberg, John C. Reilly, and William H. Macy. The sex scenes, of course are terrific but mainly focus on the character's hype in porn films until there struggles. Excellent film, one of the best! <br /><br />Hedeen's Outlook: 10/10 **** A+\n",
      "  Class 0: 0.1324\n",
      "  Class 1: 0.8676\n",
      "Review 3: First off, this movie is not near complete, my guess is that someone actually bothered to steal every other page of the script.<br /><br />The movie contains bizarre time-travels without notice, inconsistent dialogs, misplaced details all over, the music isn't very bad at all, other then misplaced tracks, and besides the fact that the volume goes up and down between the different tracks. The cutting-room did a descent job actually, and that says a lot. Missplaced sound effects ruin the tension, though.<br /><br />Luke Perry does what he does best, just looking worried, and occasionally coughing up punchlines from hell.<br /><br />I seriously rate this movie as the worst of 2007, and i've seen a few bad ones. Do not spend money on this one, it's not so bad it's a laugh, it's worse. Ratings above 1 star, should render a blacklist at IMDb, because it's a damn lie.\n",
      "  Class 0: 0.9735\n",
      "  Class 1: 0.0265\n",
      "Review 4: I watched this mini in the early eighties. Sam Waterson proved himself to be a great actor. In fact when he began Law and Order I was disappointed in him as it was not as powerful a role. Unfortunately the good roles do not pay the bills. I wish I could find a copy of this rare series and review it. It is both factual and entertaining. Everyone should see it to know what really happened. I was so moved I purchased and read the book \"Pppenheimer-Shatterer of Worlds\". And saw how this man became an unlikely hero who was never rewarded for his insight. If you get a chance be sure to watch this movie and see what a performance Mr. Waterston can really provide an audience. Enjoy the movies!\n",
      "  Class 0: 0.0265\n",
      "  Class 1: 0.9735\n",
      "Review 5: This movie was never intended as a big-budget film but was a cute little picture that pretty much anyone could enjoy. It probably won't change your life, but it is certainly charming and engaging.<br /><br />Clifton Webb plays a curmudgeon (that's certainly not new) who has a TV. However, his ratings are failing and he is worried about cancellation. So he decides maybe he is too out of touch with kids--as he and his wife have none of their own. So, he volunteers as a scoutmaster and regrets doing this almost immediately! Remember, he IS a curmudgeon and doesn't particularly like kids. To make things worse, one of the kids really likes him and follows him like a lost puppy. No matter how indifferently he acts towards the kid, the child just wants to spend time with him! The kid is cute and nearly steals the show all by himself! <br /><br />What happens next and the twists and turns of the movie are something you'll just have to find out for yourself. Understand that this is a light, cute and yet not cloying movie you'll probably enjoy.\n",
      "  Class 0: 0.0652\n",
      "  Class 1: 0.9348\n",
      "Review 6: I thought this was an extremely bad movie. The whole time I was watching this movie I couldn't help but think over and over how bad it is, and how that was $3.69 down the drain. The plot was so jumpy. They did an excellent job at the beginning of explaining who dated who in high school, but they never really explained anything after that. Was it a supernatural thriller? Was it a regular thriller? Apparently you can decide for yourself, because they didn't see the need to explain. I understood basically what happened, I think. What I got confused about was all of it prior, what was the deal with the bloody noses, phone calls, etc.? Was this guy coming back? Was the wife channeling \"Carrie\" or something? Who knows? You certainly won't after watching this movie.\n",
      "  Class 0: 0.9805\n",
      "  Class 1: 0.0195\n",
      "Review 7: This was one of the biggest pieces of crap I have ever had to watch. I mean, seriously. How would anybody else feel if they were in Woody Harrelson's shoes and your wife was even CONSIDERING it would be a good idea to sleep with the other guy even for a million bucks. After all, she was the one talking about it in bed and saying how it would be good for them since he can build his house or whatever with that money. Woody never fully agreed to it until she talked him into it. How CAN you trust her? Who the hell would actually even consider that if they were married? I don't care how desperate they were. That's the most ridiculous thing I have ever heard in my life. Then, he flips out on her. Apparently, he had no right to mistrust her, other than the fact that his wife just slept with another dude who is extremely rich and handsome. Oh and wait, then he's supposed to apologize to HER after she files for the divorce so she can be with the guy she slept with. Of course Woody has no right to say anything to her or mistrust her especially after she still has Roy Hobb's card in her wallet. Then, at the end of the movie, she's apparently so in love with Woody still and misses him so much, that she was not going to leave Hobbs until he made some ridiculously stupid story up to try to hint to her to leave, and she bleeping thanks Hobbs???? Are you bleeping kidding me? Was she under contract as his sex slave or something?? I mean what the bleep?? Oh and wait it gets better. She bleeping kisses him passionately before she gets out of the car. Yea, she's not a whore. Oh, thank you for letting me go, let me go make out with you one last time for good ole' sake. Smooch smooch, smooch even though I'm still married to a guy I left for a rich guy. I have never seen such a piece of crap in my life. How the hell are we supposed to feel good after that horrible ending? What was this movie supposed to represent? NOTHING CAME OUT OF THIS! This was the most pointless movie I have ever seen in my life. Two pathetic desperate people. If I were Woody, I would tell her to go drown herself in that body of water they were near. Apparently, he had no self respect. What the hell was Roy Hobbs thinking by taking this horrible role. I feel like puking after watching this. This movie was so bad, it was seriously laughable. I want those two hours of my life back that I wasted watching this piece of ****.\n",
      "  Class 0: 0.9641\n",
      "  Class 1: 0.0359\n",
      "Review 8: I just watched it for the second time today and I must say with all my heart it is about damn time they made a movie about us as people not as spiritual beings. Such a waste of human life as this story was maybe some good will come out of it. And Eric is hotter than ever. To often in the movies First Nations people are seen as other than everyday people. We are always portrayed as chiefs or medicine people. Hey we are just like everyone else. And this movie showed just that. We hurt when an injustice is done and we can win in quest for justice. It is really to bad that the big movie companies cant see that. I cant wait till this comes out on DVD. Thanks to those who chose to show this story as it really was.\n",
      "  Class 0: 0.6864\n",
      "  Class 1: 0.3136\n",
      "Review 9: I've read through a lot of the comments here about how this movie sticks to the book.. I don't think any of them have actually read it. Edgar Rice wrote about a dangerous African Jungle and Apes were killers and hunters. We know differently now and this movie portrays Apes in a more modern view. I've never seen a Tarzan movie that even comes close to Edgar's vision. Maybe one day Hollywood with trust talented and respected authors to tell the story. So, if you've never read the book and enjoy a good story about feelings and a fluffy bunny view of wild animals, maybe a good cry, see the movie. I hope John Carter of Mars get's more respect than Tarzan has. We miss ya, Edgar!\n",
      "  Class 0: 0.2504\n",
      "  Class 1: 0.7496\n",
      "Review 10: I usually much prefer French movies over American ones, with explosions and car chases, but this movie was very disappointing. There is no way to write a spoiler because nothing really happens. This French couple has been living in Lisbon for years, and they return to Paris for a friend's wedding. They announce to another friend they are having dinner with that they are going to split. Then nothing much happens, they don't seem to know whether they want to separate or not. I don't necessarily think that their hesitations make for a bad movie, it is very human to hesitate before making such a decision for good, but this could be treated in an interesting manner, giving some flesh to their desires and their relationship, but that does not happen. One gets out of the theater unsure of why these two got together or want to split. The only piece I enjoyed was the conversation with the drunk. That was true to life.\n",
      "  Class 0: 0.9691\n",
      "  Class 1: 0.0309\n",
      "\n",
      "FHE inference for Review 1:\n",
      "  Time: 1.4192 seconds\n",
      "  Class 0: 0.9641\n",
      "  Class 1: 0.0359\n",
      "\n",
      "FHE inference for Review 2:\n",
      "  Time: 0.4448 seconds\n",
      "  Class 0: 0.1324\n",
      "  Class 1: 0.8676\n",
      "\n",
      "FHE inference for Review 3:\n",
      "  Time: 0.4477 seconds\n",
      "  Class 0: 0.9735\n",
      "  Class 1: 0.0265\n",
      "\n",
      "FHE inference for Review 4:\n",
      "  Time: 0.4383 seconds\n",
      "  Class 0: 0.0265\n",
      "  Class 1: 0.9735\n",
      "\n",
      "FHE inference for Review 5:\n",
      "  Time: 0.4421 seconds\n",
      "  Class 0: 0.0652\n",
      "  Class 1: 0.9348\n",
      "\n",
      "FHE inference for Review 6:\n",
      "  Time: 0.4737 seconds\n",
      "  Class 0: 0.9805\n",
      "  Class 1: 0.0195\n",
      "\n",
      "FHE inference for Review 7:\n",
      "  Time: 0.4206 seconds\n",
      "  Class 0: 0.9641\n",
      "  Class 1: 0.0359\n",
      "\n",
      "FHE inference for Review 8:\n",
      "  Time: 0.4046 seconds\n",
      "  Class 0: 0.6864\n",
      "  Class 1: 0.3136\n",
      "\n",
      "FHE inference for Review 9:\n",
      "  Time: 0.4144 seconds\n",
      "  Class 0: 0.2504\n",
      "  Class 1: 0.7496\n",
      "\n",
      "FHE inference for Review 10:\n",
      "  Time: 0.4038 seconds\n",
      "  Class 0: 0.9691\n",
      "  Class 1: 0.0309\n",
      "\n",
      "Average FHE inference time over 10 examples: 0.5309 seconds\n"
     ]
    }
   ],
   "source": [
    "import time\n",
    "import numpy as np\n",
    "\n",
    "# Compile the model for FHE\n",
    "start = time.perf_counter()\n",
    "best_model.compile(X_train_transformer)\n",
    "end = time.perf_counter()\n",
    "print(f\"Compilation time: {end - start:.2f} seconds\")\n",
    "\n",
    "# Randomly select 10 examples from the test set\n",
    "np.random.seed(42)  # For reproducibility\n",
    "random_indices = np.random.choice(len(text_X_test), size=10, replace=False)\n",
    "random_reviews = [text_X_test[i] for i in random_indices]\n",
    "\n",
    "# Convert the selected reviews to tensor representations\n",
    "X_tested_reviews = text_to_tensor(random_reviews, transformer_model, tokenizer, device)\n",
    "\n",
    "# Predictions using the clear model (for comparison)\n",
    "clear_proba = best_model.predict_proba(X_tested_reviews)\n",
    "print(\"Probabilities from the clear model:\")\n",
    "for i, review in enumerate(random_reviews):\n",
    "    print(f\"Review {i+1}: {review}\")\n",
    "    for idx, prob in enumerate(clear_proba[i]):\n",
    "        print(f\"  Class {idx}: {prob:.4f}\")\n",
    "\n",
    "# Predictions using FHE (measure inference time)\n",
    "fhe_times = []\n",
    "for i, review_tensor in enumerate(X_tested_reviews):\n",
    "    start = time.perf_counter()\n",
    "    fhe_proba = best_model.predict_proba(review_tensor.reshape(1, -1), fhe=\"execute\")\n",
    "    end = time.perf_counter()\n",
    "    fhe_time = end - start\n",
    "    fhe_times.append(fhe_time)\n",
    "    print(f\"\\nFHE inference for Review {i+1}:\")\n",
    "    print(f\"  Time: {fhe_time:.4f} seconds\")\n",
    "    for idx, prob in enumerate(fhe_proba[0]):\n",
    "        print(f\"  Class {idx}: {prob:.4f}\")\n",
    "\n",
    "# Calculate average FHE inference time\n",
    "average_fhe_time = np.mean(fhe_times)\n",
    "print(f\"\\nAverage FHE inference time over 10 examples: {average_fhe_time:.4f} seconds\")"
   ]
  },
  {
   "cell_type": "code",
   "execution_count": 28,
   "id": "5dcecbb8-e80c-4d95-b131-6b749f597135",
   "metadata": {},
   "outputs": [],
   "source": [
    "# Let's save the model to be pushed to a server later\n",
    "from concrete.ml.deployment import FHEModelDev\n",
    "fhe_api = FHEModelDev(\"sentiment_fhe_model\", best_model)\n",
    "fhe_api.save()\n"
   ]
  },
  {
   "cell_type": "code",
   "execution_count": 12,
   "id": "6775c257-0dd4-4d54-97a6-006a4dfc262b",
   "metadata": {},
   "outputs": [
    {
     "name": "stdout",
     "output_type": "stream",
     "text": [
      "Evaluating on 5000 randomly selected samples out of 25000 available.\n",
      "Clear Model Predictions: {0, 1}\n",
      "True Labels: {0, 1}\n",
      "Clear Model Accuracy: 0.9016\n",
      "FHE Model Predictions: {0, 1}\n",
      "FHE Model Accuracy: 0.9016\n",
      "Total mismatches between Clear and FHE predictions: 0\n"
     ]
    }
   ],
   "source": [
    "from sklearn.metrics import accuracy_score\n",
    "import numpy as np\n",
    "\n",
    "# Use a small subset for quick evaluation with random sampling\n",
    "num_samples = min(5000, len(X_test_transformer))  # Limit to 100 samples or less if smaller dataset\n",
    "indices = np.random.choice(len(y_test), num_samples, replace=False)\n",
    "y_true_subset = y_test[indices]\n",
    "X_test_subset = X_test_transformer[indices]\n",
    "\n",
    "# Clear model predictions\n",
    "y_pred_clear = best_model.predict(X_test_subset)\n",
    "clear_acc = accuracy_score(y_true_subset, y_pred_clear)\n",
    "print(f\"Evaluating on {num_samples} randomly selected samples out of {len(y_test)} available.\")\n",
    "print(f\"Clear Model Predictions: {set(y_pred_clear)}\")\n",
    "print(f\"True Labels: {set(y_true_subset)}\")\n",
    "print(f\"Clear Model Accuracy: {clear_acc:.4f}\")\n",
    "\n",
    "# FHE model predictions\n",
    "y_pred_fhe = best_model.predict(X_test_subset, fhe=\"execute\")\n",
    "fhe_acc = accuracy_score(y_true_subset, y_pred_fhe)\n",
    "print(f\"FHE Model Predictions: {set(y_pred_fhe)}\")\n",
    "print(f\"FHE Model Accuracy: {fhe_acc:.4f}\")\n",
    "\n",
    "# Check mismatches\n",
    "total_mismatches = np.sum(y_pred_clear != y_pred_fhe)\n",
    "print(f\"Total mismatches between Clear and FHE predictions: {total_mismatches}\")\n"
   ]
  },
  {
   "cell_type": "code",
   "execution_count": null,
   "id": "9acc2942-eeb8-4108-b928-2778da82fb5f",
   "metadata": {},
   "outputs": [],
   "source": []
  }
 ],
 "metadata": {
  "kernelspec": {
   "display_name": "Python 3 (ipykernel)",
   "language": "python",
   "name": "python3"
  },
  "language_info": {
   "codemirror_mode": {
    "name": "ipython",
    "version": 3
   },
   "file_extension": ".py",
   "mimetype": "text/x-python",
   "name": "python",
   "nbconvert_exporter": "python",
   "pygments_lexer": "ipython3",
   "version": "3.8.20"
  }
 },
 "nbformat": 4,
 "nbformat_minor": 5
}
